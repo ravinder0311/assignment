{
 "cells": [
  {
   "cell_type": "markdown",
   "id": "d7b103e9",
   "metadata": {},
   "source": [
    "### Question 1\n",
    "Write a python code for converting integer values to Indian currency notations, without using the currency libraries"
   ]
  },
  {
   "cell_type": "code",
   "execution_count": 1,
   "id": "1f6a3080",
   "metadata": {},
   "outputs": [],
   "source": [
    "#indian currency notation\n",
    "def indian_currency(number):\n",
    "    num, *split = str(number).partition(\".\")\n",
    "    rupee = \",\".join([num[x-2:x] for x in range(-3, -len(num), -2)][::-1] + [num[-3:]])\n",
    "    return \"\".join([rupee] + split)"
   ]
  },
  {
   "cell_type": "code",
   "execution_count": 2,
   "id": "73aa6c2b",
   "metadata": {},
   "outputs": [
    {
     "data": {
      "text/plain": [
       "'56,84,752'"
      ]
     },
     "execution_count": 2,
     "metadata": {},
     "output_type": "execute_result"
    }
   ],
   "source": [
    "indian_currency(5684752)"
   ]
  },
  {
   "cell_type": "markdown",
   "id": "33e66bb6",
   "metadata": {},
   "source": [
    "### Question 2\n",
    "You won’t get caught if you hide behind someone.”\n",
    "Sang-Woo advises Gi-Hun to hide behind someone to avoid getting shot."
   ]
  },
  {
   "cell_type": "code",
   "execution_count": 3,
   "id": "57b08c61",
   "metadata": {},
   "outputs": [],
   "source": [
    "# function to count number of players need to be shot\n",
    "def minimum_players_shot(no_of_players, height_of_ali_gihun, players):\n",
    "    count = 0\n",
    "    for player in players:\n",
    "        if player > height_of_ali_gihun:\n",
    "            count += 1\n",
    "    print(f'minimum number of players need to be shot :')\n",
    "    return count"
   ]
  },
  {
   "cell_type": "code",
   "execution_count": 4,
   "id": "85b28f24",
   "metadata": {},
   "outputs": [
    {
     "name": "stdout",
     "output_type": "stream",
     "text": [
      "Number of Test Cases :3\n",
      "number of players and height of ali and gihun :4 10\n",
      "players Height :2 13 4 16\n",
      "minimum number of players need to be shot :\n",
      "2\n",
      "number of players and height of ali and gihun :5 8\n",
      "players Height :9 3 8 8 4\n",
      "minimum number of players need to be shot :\n",
      "1\n",
      "number of players and height of ali and gihun :4 6\n",
      "players Height :1 2 3 4\n",
      "minimum number of players need to be shot :\n",
      "0\n"
     ]
    }
   ],
   "source": [
    "num_test_case = int(input('Number of Test Cases :').strip())\n",
    "for i in range(0,num_test_case):\n",
    "    num_players, both_height = map(int, input('number of players and height of ali and gihun :').strip().split())\n",
    "    players = list(map(int, input('players Height :').strip().split()))\n",
    "    print(minimum_players_shot(num_players, both_height, players))"
   ]
  },
  {
   "cell_type": "code",
   "execution_count": null,
   "id": "df248a78",
   "metadata": {},
   "outputs": [],
   "source": []
  },
  {
   "cell_type": "code",
   "execution_count": null,
   "id": "575d38ec",
   "metadata": {},
   "outputs": [],
   "source": []
  },
  {
   "cell_type": "code",
   "execution_count": null,
   "id": "d0b54d91",
   "metadata": {},
   "outputs": [],
   "source": []
  }
 ],
 "metadata": {
  "kernelspec": {
   "display_name": "Python 3",
   "language": "python",
   "name": "python3"
  },
  "language_info": {
   "codemirror_mode": {
    "name": "ipython",
    "version": 3
   },
   "file_extension": ".py",
   "mimetype": "text/x-python",
   "name": "python",
   "nbconvert_exporter": "python",
   "pygments_lexer": "ipython3",
   "version": "3.8.8"
  }
 },
 "nbformat": 4,
 "nbformat_minor": 5
}
